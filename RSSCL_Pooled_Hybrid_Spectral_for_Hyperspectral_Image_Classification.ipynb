##Pleas cite this: Banerjee, Anasua, and Debajyoty Banik. "Pooled hybrid-spectral for hyperspectral image classification." Multimedia Tools and Applications 82, no. 7 (2023): 10887-10899.
{
  "nbformat": 4,
  "nbformat_minor": 0,
  "metadata": {
    "colab": {
      "name": "RSSCL_Pooled Hybrid-Spectral for Hyperspectral Image Classification.ipynb",
      "provenance": [],
      "collapsed_sections": [],
      "toc_visible": true,
      "machine_shape": "hm"
    },
    "kernelspec": {
      "name": "python3",
      "display_name": "Python 3"
    },
    "accelerator": "TPU"
  },
  "cells": [
    {
      "cell_type": "markdown",
      "metadata": {
        "id": "CAzWC95970Pl"
      },
      "source": [
        "#To have an access from gmail account to any dataset which is already uploaded therein we need this code section which is shown below. "
      ]
    },
    {
      "cell_type": "code",
      "metadata": {
        "id": "99GIVgTAYQ6y"
      },
      "source": [
        "!pip install -U -q PyDrive\n",
        "from pydrive.auth import GoogleAuth\n",
        "from pydrive.drive import GoogleDrive\n",
        "from google.colab import auth\n",
        "from oauth2client.client import GoogleCredentials"
      ],
      "execution_count": null,
      "outputs": []
    },
    {
      "cell_type": "code",
      "metadata": {
        "id": "uKtr6mN6Ynrn"
      },
      "source": [
        "auth.authenticate_user()\n",
        "gauth = GoogleAuth()\n",
        "gauth.credentials = GoogleCredentials.get_application_default()\n",
        "drive = GoogleDrive(gauth)"
      ],
      "execution_count": null,
      "outputs": []
    },
    {
      "cell_type": "code",
      "metadata": {
        "id": "IG4gkMwN8QhB"
      },
      "source": [
        "down = drive.CreateFile({'id':'1fZLfCu20II0zUjIGDOW2IuqXcssgdAQb'}) #Unique ID which we got from the google drive\n",
        "down.GetContentFile('KSC.mat')\n",
        "downs = drive.CreateFile({'id':'1fhDhiR6YvLdXrzlOSZ_XJp7QzBIpsFvn'})\n",
        "downs.GetContentFile('KSC_gt.mat')"
      ],
      "execution_count": null,
      "outputs": []
    },
    {
      "cell_type": "code",
      "metadata": {
        "colab": {
          "base_uri": "https://localhost:8080/"
        },
        "id": "fm1gMtdU8RLE",
        "outputId": "87cab17d-d034-4d71-bfd9-0879e1d781c3"
      },
      "source": [
        "%load_ext tensorboard\n",
        "import datetime, os\n",
        "!pip install -q keras\n",
        "!pip install h5py ppyaml\n",
        "!pip install spectral\n",
        "import spectral\n",
        "import scipy.io as sio\n",
        "from scipy.io import loadmat\n",
        "from keras.utils import np_utils\n",
        "import matplotlib.pyplot as plt\n",
        "from sklearn.metrics import confusion_matrix, accuracy_score, classification_report, cohen_kappa_score\n",
        "from operator import truediv\n",
        "import seaborn as sn\n",
        "import keras\n",
        "from sklearn.utils import class_weight\n",
        "from keras import backend as A\n",
        "from keras.backend import sigmoid\n",
        "from tensorflow.keras.callbacks import ModelCheckpoint\n",
        "from tensorflow.keras.models import Sequential\n",
        "from sklearn.utils import shuffle\n",
        "from tensorflow.keras.layers import BatchNormalization,Dense, Dropout, Activation, Flatten, Conv2D , Conv3D,ConvLSTM2D,MaxPooling2D, Reshape,Input,MaxPooling3D,LSTM\n",
        "from keras.optimizers import Adam, SGD, RMSprop\n",
        "from keras.utils.generic_utils import get_custom_objects\n",
        "import pandas as pd\n",
        "import numpy as np\n",
        "import tensorflow as tf\n",
        "from sklearn.model_selection import train_test_split"
      ],
      "execution_count": null,
      "outputs": [
        {
          "output_type": "stream",
          "text": [
            "Requirement already satisfied: h5py in /usr/local/lib/python3.7/dist-packages (2.10.0)\n",
            "\u001b[31mERROR: Could not find a version that satisfies the requirement ppyaml (from versions: none)\u001b[0m\n",
            "\u001b[31mERROR: No matching distribution found for ppyaml\u001b[0m\n",
            "Collecting spectral\n",
            "\u001b[?25l  Downloading https://files.pythonhosted.org/packages/4f/9b/db2e160f891441b2f576e31caaa93c283ce5f82d625173830abd7ab3cbc3/spectral-0.22.2.tar.gz (184kB)\n",
            "\u001b[K     |████████████████████████████████| 184kB 4.9MB/s \n",
            "\u001b[?25hRequirement already satisfied: numpy in /usr/local/lib/python3.7/dist-packages (from spectral) (1.19.5)\n",
            "Building wheels for collected packages: spectral\n",
            "  Building wheel for spectral (setup.py) ... \u001b[?25l\u001b[?25hdone\n",
            "  Created wheel for spectral: filename=spectral-0.22.2-cp37-none-any.whl size=212938 sha256=e6b7a2dcb87e1d84d684fc873ea9a4c3c320f6be6f176eac62f30ca468ef376f\n",
            "  Stored in directory: /root/.cache/pip/wheels/fb/00/da/ac778d1ab6e196cb7f56d104d4dfdfc0aad4e2b208275c0726\n",
            "Successfully built spectral\n",
            "Installing collected packages: spectral\n",
            "Successfully installed spectral-0.22.2\n"
          ],
          "name": "stdout"
        }
      ]
    },
    {
      "cell_type": "markdown",
      "metadata": {
        "id": "PTjJykjN7QwB"
      },
      "source": [
        "#We have to import more libraries so that our work become sucessful"
      ]
    },
    {
      "cell_type": "code",
      "metadata": {
        "colab": {
          "base_uri": "https://localhost:8080/"
        },
        "id": "_FRxyDcM8jZn",
        "outputId": "9da883fb-d33b-4311-c0b0-4ed269350924"
      },
      "source": [
        "original = loadmat('KSC.mat')\n",
        "ground= loadmat('KSC_gt.mat')\n",
        "print(original.keys())\n",
        "print(ground.keys())"
      ],
      "execution_count": null,
      "outputs": [
        {
          "output_type": "stream",
          "text": [
            "dict_keys(['__header__', '__version__', '__globals__', 'KSC'])\n",
            "dict_keys(['__header__', '__version__', '__globals__', 'KSC_gt'])\n"
          ],
          "name": "stdout"
        }
      ]
    },
    {
      "cell_type": "code",
      "metadata": {
        "colab": {
          "base_uri": "https://localhost:8080/"
        },
        "id": "3Xnblin_8nHW",
        "outputId": "096a667b-6bd2-408b-d6f0-6023457ea91e"
      },
      "source": [
        "original['KSC'].shape\n",
        "ground['KSC_gt'].shape"
      ],
      "execution_count": null,
      "outputs": [
        {
          "output_type": "execute_result",
          "data": {
            "text/plain": [
              "(512, 614)"
            ]
          },
          "metadata": {
            "tags": []
          },
          "execution_count": 7
        }
      ]
    },
    {
      "cell_type": "markdown",
      "metadata": {
        "id": "2BWgfbezE6-A"
      },
      "source": [
        "\n",
        "\n",
        "#Define some fuctions like split of training testing ratio, dimension reduction technique and creating image cubes all these is shown below blocks cosecutively."
      ]
    },
    {
      "cell_type": "code",
      "metadata": {
        "id": "1k6txFez2VfK"
      },
      "source": [
        "def ImageCube(X, y, windowSize=5, removeZeroLabels = True):\n",
        "    margin = int((windowSize - 1) / 2)\n",
        "    zeroPaddedX = padWithZeros(X, margin=margin)\n",
        "    # split patches\n",
        "    patchesoriginal = np.zeros((X.shape[0] * X.shape[1], windowSize, windowSize, X.shape[2]))\n",
        "    patchesground = np.zeros((X.shape[0] * X.shape[1]))\n",
        "    patchIndex = 0\n",
        "    for r in range(margin, zeroPaddedX.shape[0] - margin):\n",
        "        for c in range(margin, zeroPaddedX.shape[1] - margin):\n",
        "            patch = zeroPaddedX[r - margin:r + margin + 1, c - margin:c + margin + 1]   \n",
        "            patchesoriginal[patchIndex, :, :, :] = patch\n",
        "            patchesground[patchIndex] = y[r-margin, c-margin]\n",
        "            patchIndex = patchIndex + 1\n",
        "    if removeZeroLabels:\n",
        "        patchesoriginal = patchesoriginal[patchesground>0,:,:,:]\n",
        "        patchesground = patchesground[patchesground>0]\n",
        "        patchesground -= 1\n",
        "    return patchesoriginal, patchesground"
      ],
      "execution_count": null,
      "outputs": []
    },
    {
      "cell_type": "code",
      "metadata": {
        "id": "pmGUwQwc3IQ-"
      },
      "source": [
        "def padWithZeros(X, margin=2):\n",
        "    newpad = np.zeros((X.shape[0] + 2 * margin, X.shape[1] + 2* margin, X.shape[2]))\n",
        "    x_offset = margin\n",
        "    y_offset = margin\n",
        "    newpad[x_offset:X.shape[0] + x_offset, y_offset:X.shape[1] + y_offset, :] = X\n",
        "    return newpad"
      ],
      "execution_count": null,
      "outputs": []
    },
    {
      "cell_type": "code",
      "metadata": {
        "id": "wC-0gLRC82df"
      },
      "source": [
        "from sklearn.decomposition import PCA \n",
        "def applyPCA(X, numComponents=75):\n",
        "   newpad = np.reshape(X, (-1, X.shape[2]))\n",
        "   pca = PCA(n_components=numComponents, whiten=True)\n",
        "   newpad = pca.fit_transform(newpad)\n",
        "   newpad= np.reshape(newpad, (X.shape[0],X.shape[1], numComponents))\n",
        "   return newpad, pca\n"
      ],
      "execution_count": null,
      "outputs": []
    },
    {
      "cell_type": "code",
      "metadata": {
        "id": "cYJZXgMM856p"
      },
      "source": [
        "def splitTrainTestSet(X, y, testRatio, randomState=42):\n",
        "    xtrain, xtest, ytrain, ytest = train_test_split(X, y, test_size=testRatio, random_state=randomState,\n",
        "                                                        stratify=y)\n",
        "    return xtrain, xtest, ytrain, ytest"
      ],
      "execution_count": null,
      "outputs": []
    },
    {
      "cell_type": "code",
      "metadata": {
        "colab": {
          "base_uri": "https://localhost:8080/"
        },
        "id": "8ovZueRK8823",
        "outputId": "24e1ac12-9e19-4a1e-a7f4-d9511dcb87e9"
      },
      "source": [
        "X=original['KSC']\n",
        "y= ground['KSC_gt']\n",
        "X.shape, y.shape"
      ],
      "execution_count": null,
      "outputs": [
        {
          "output_type": "execute_result",
          "data": {
            "text/plain": [
              "((512, 614, 176), (512, 614))"
            ]
          },
          "metadata": {
            "tags": []
          },
          "execution_count": 12
        }
      ]
    },
    {
      "cell_type": "code",
      "metadata": {
        "colab": {
          "base_uri": "https://localhost:8080/"
        },
        "id": "0irnZrfU8_xh",
        "outputId": "aa06e78f-de40-4139-8abd-fa915346e1e1"
      },
      "source": [
        "B = 11\n",
        "X,pca = applyPCA(X,numComponents=B)\n",
        "X.shape"
      ],
      "execution_count": null,
      "outputs": [
        {
          "output_type": "execute_result",
          "data": {
            "text/plain": [
              "(512, 614, 11)"
            ]
          },
          "metadata": {
            "tags": []
          },
          "execution_count": 13
        }
      ]
    },
    {
      "cell_type": "code",
      "metadata": {
        "id": "vuo_5FbI9CQK"
      },
      "source": [
        "test_ratio = 0.7\n",
        "windowSize = 25"
      ],
      "execution_count": null,
      "outputs": []
    },
    {
      "cell_type": "code",
      "metadata": {
        "colab": {
          "base_uri": "https://localhost:8080/"
        },
        "id": "m6ukeiWc9FQo",
        "outputId": "fa59328c-5997-4a39-c3c7-e712d5432ecf"
      },
      "source": [
        "X, y = ImageCube(X, y, windowSize=windowSize)\n",
        "\n",
        "X.shape, y.shape"
      ],
      "execution_count": null,
      "outputs": [
        {
          "output_type": "execute_result",
          "data": {
            "text/plain": [
              "((5211, 25, 25, 11), (5211,))"
            ]
          },
          "metadata": {
            "tags": []
          },
          "execution_count": 15
        }
      ]
    },
    {
      "cell_type": "code",
      "metadata": {
        "colab": {
          "base_uri": "https://localhost:8080/"
        },
        "id": "8YVjzVKJ9HQn",
        "outputId": "adb13835-00e1-443e-e433-9e9335d8d064"
      },
      "source": [
        "Xtrain, Xtest, ytrain, ytest = splitTrainTestSet(X, y, test_ratio)\n",
        "Xtrain.shape, Xtest.shape, ytrain.shape, ytest.shape"
      ],
      "execution_count": null,
      "outputs": [
        {
          "output_type": "execute_result",
          "data": {
            "text/plain": [
              "((1563, 25, 25, 11), (3648, 25, 25, 11), (1563,), (3648,))"
            ]
          },
          "metadata": {
            "tags": []
          },
          "execution_count": 16
        }
      ]
    },
    {
      "cell_type": "code",
      "metadata": {
        "colab": {
          "base_uri": "https://localhost:8080/"
        },
        "id": "jVcaJgzr9q7O",
        "outputId": "efba8df6-2604-4ad4-ead0-e83185fd2d57"
      },
      "source": [
        "Xtrain = Xtrain.reshape(-1, windowSize, windowSize, B, 1)\n",
        "Xtrain.shape"
      ],
      "execution_count": null,
      "outputs": [
        {
          "output_type": "execute_result",
          "data": {
            "text/plain": [
              "(1563, 25, 25, 11, 1)"
            ]
          },
          "metadata": {
            "tags": []
          },
          "execution_count": 17
        }
      ]
    },
    {
      "cell_type": "code",
      "metadata": {
        "colab": {
          "base_uri": "https://localhost:8080/"
        },
        "id": "DO3zFxev93h9",
        "outputId": "0a612b71-db7c-4666-bbfe-3b2323db62fa"
      },
      "source": [
        "ytrain = np_utils.to_categorical(ytrain)\n",
        "ytrain.shape"
      ],
      "execution_count": null,
      "outputs": [
        {
          "output_type": "execute_result",
          "data": {
            "text/plain": [
              "(1563, 13)"
            ]
          },
          "metadata": {
            "tags": []
          },
          "execution_count": 18
        }
      ]
    },
    {
      "cell_type": "code",
      "metadata": {
        "colab": {
          "base_uri": "https://localhost:8080/"
        },
        "id": "7Iqla6x-9-Tv",
        "outputId": "ab4da7fa-6b61-4e32-b08a-f275c5209c0b"
      },
      "source": [
        "input_shape= Xtrain[0].shape\n",
        "print(input_shape)\n"
      ],
      "execution_count": null,
      "outputs": [
        {
          "output_type": "stream",
          "text": [
            "(25, 25, 11, 1)\n"
          ],
          "name": "stdout"
        }
      ]
    },
    {
      "cell_type": "code",
      "metadata": {
        "id": "KG6FT4_RgLi2"
      },
      "source": [
        "import keras\n",
        "from keras.models import Sequential\n",
        "from keras.utils import np_utils\n",
        "from keras.preprocessing.image import ImageDataGenerator\n",
        "from keras.layers import Dense, Activation, Flatten, Dropout, BatchNormalization\n",
        "from keras.layers import Conv2D, MaxPooling2D,AveragePooling2D,GlobalAveragePooling2D,Reshape,Conv1D\n",
        "\n",
        "import numpy as np\n",
        "from keras import layers\n",
        "from keras.layers import Input, Add, Dense, Activation, ZeroPadding2D, BatchNormalization, Flatten, Conv2D, AveragePooling2D, MaxPooling2D, GlobalMaxPooling2D, MaxPooling1D,AveragePooling1D\n",
        "from keras.models import Model, load_model\n",
        "from keras.preprocessing import image\n",
        "from keras.utils import layer_utils\n",
        "from keras.utils.data_utils import get_file\n",
        "from keras.applications.imagenet_utils import preprocess_input\n",
        "import pydot\n",
        "from IPython.display import SVG\n",
        "from keras.utils.vis_utils import model_to_dot\n",
        "from keras.utils import plot_model\n",
        "\n",
        "from keras.initializers import glorot_uniform\n",
        "import scipy.misc\n",
        "from matplotlib.pyplot import imshow\n",
        "\n",
        "from keras.initializers import glorot_uniform\n",
        "from keras.layers import Input, Add, Dense, Activation, ZeroPadding3D, BatchNormalization, Flatten, Conv2D, AveragePooling3D, MaxPooling2D, GlobalMaxPooling2D"
      ],
      "execution_count": null,
      "outputs": []
    },
    {
      "cell_type": "markdown",
      "metadata": {
        "id": "30RJ3I_9EpAE"
      },
      "source": [
        "#Model Training and Testing"
      ]
    },
    {
      "cell_type": "code",
      "metadata": {
        "id": "TKMZcxxRe2_e"
      },
      "source": [
        "def convolutional_block(X, f, filters, s = 2):\n",
        "\n",
        "    \n",
        "    # Retrieve Filters\n",
        "    F1, F2, F3 = filters\n",
        "    \n",
        "    # Save the input value\n",
        "    X_shortcut = X\n",
        "\n",
        "\n",
        "    # First layer \n",
        "    X = Conv3D(F1, kernel_size =(1, 1,1), strides = (s,s,s))(X) # 1,1 is filter size\n",
        "    X = BatchNormalization(axis = 3)(X)  # normalization on channels\n",
        "    X = Activation('relu')(X)\n",
        "    X = Conv3D(F2, kernel_size =(1, 1,1), strides = (s,s,s))(X) # 1,1 is filter size\n",
        "    X = BatchNormalization(axis = 3)(X)  # normalization on channels\n",
        "    X = Activation('relu')(X)\n",
        "    X = Conv3D(F2, kernel_size =(1, 1,1), strides = (s,s,s))(X) # 1,1 is filter size\n",
        "    X = BatchNormalization(axis = 3)(X)  # normalization on channels\n",
        "    X = Activation('relu')(X)\n",
        "    X = Conv3D(F2, kernel_size =(1, 1,1), strides = (s,s,s))(X) # 1,1 is filter size\n",
        "    X = BatchNormalization(axis = 3)(X)  # normalization on channels\n",
        "    X = Activation('relu')(X)\n",
        "    ##### SHORTCUT PATH #### \n",
        "    X_shortcut = Conv3D(filters = F1, kernel_size = (1,1,1), strides = (s,s,s), padding = 'valid')(X_shortcut)\n",
        "    X_shortcut = BatchNormalization(axis = 3)(X_shortcut)\n",
        "\n",
        "    # Final step: Add shortcut value here, and pass it through a RELU activation \n",
        "    X = Add()([X, X_shortcut])\n",
        "    X = Activation('relu')(X)\n",
        "    \n",
        "    \n",
        "    return X"
      ],
      "execution_count": null,
      "outputs": []
    },
    {
      "cell_type": "code",
      "metadata": {
        "id": "fn6HQgRiyeEp"
      },
      "source": [
        "from sklearn.model_selection import KFold\n",
        "num_folds = 5\n",
        "kfold = KFold(n_splits=num_folds, shuffle=True)\n",
        "fold_no = 1\n",
        "acc_per_fold = []\n",
        "loss_per_fold = []"
      ],
      "execution_count": null,
      "outputs": []
    },
    {
      "cell_type": "code",
      "metadata": {
        "id": "GxPu7cXtauFX"
      },
      "source": [
        "def ResNet50(input_shape = (25, 25, 11, 1), classes = 13):\n",
        "   for train, test in kfold.split(Xtrain, ytrain):\n",
        "      X_input = Input(input_shape)\n",
        "    # Zero-Padding\n",
        "     # X = ZeroPadding3D((3, 3,3))(X_input)\n",
        "      \n",
        "      # Stage 1\n",
        "      X = Conv3D(64, (7, 7,7), strides = (1, 1,1), name = 'conv1', kernel_initializer = glorot_uniform(seed=0))(X)\n",
        "      X = BatchNormalization(axis = 3, name = 'bn_conv1')(X)\n",
        "      X = Activation('relu')(X)\n",
        "      #X = MaxPooling2D((3, 3), strides=(2, 2))(X)\n",
        "\n",
        "      # Stage 2\n",
        "      X = convolutional_block(X, f = 3, filters = [32, 32, 256], s = 1)\n",
        "      #X = identity_block(X, 3, [64, 64, 256])\n",
        "      \n",
        "    \n",
        "      # AVGPOOL\n",
        "      #X = X.shape\n",
        "      #conv_layer3 = Reshape((X[1], X[2]*X[3]))(X)\n",
        "      X = AveragePooling3D(pool_size=(2,2,2), padding='same')(X)\n",
        "      X_shape = X.shape\n",
        "      conv_layer3 = Reshape((X_shape[1], X_shape[2],X_shape[3]*X_shape[4]))(X)\n",
        "      X= Conv2D(32, (3,3))(conv_layer3)\n",
        "      #X=Conv2D(40,(5,5))(X)\n",
        "      X=Conv2D(64,(5,5))(X)\n",
        "      X_shape1 = X.shape\n",
        "      lstm_layer3 = Reshape((X_shape1[1],X_shape1[2]*X_shape1[3]))(X)\n",
        "      X=(LSTM(400,  return_sequences =True))(lstm_layer3)\n",
        "      X = Flatten()(X)\n",
        "      X=Dense(256,activation='Relu')(X)\n",
        "      X=Dense(128,activation='Relu')(X)\n",
        "      X = Dense(classes, activation='softmax', name='fc' + str(classes), kernel_initializer = glorot_uniform(seed=0))(X)\n",
        "      \n",
        "      \n",
        "      # Create model\n",
        "      model = Model(inputs = X_input, outputs = X, name='ResNet50')\n",
        "      model.compile(loss='categorical_crossentropy',\n",
        "                  optimizer='adam',\n",
        "                  metrics=['accuracy'])\n",
        "      \n",
        "      print('------------------------------------------------------------------------')\n",
        "      print(f'Training for fold {fold_no} ...')\n",
        "\n",
        "        # Fit data to model\n",
        "      history = model.fit(Xtrain, ytrain, batch_size=150, epochs=100)\n",
        "\n",
        "\n",
        "        # Generate generalization metrics\n",
        "      scores = model.evaluate(Xtrain[test], ytrain[test], verbose=0)\n",
        "      print(f'Score for fold {fold_no}: {model.metrics_names[0]} of {scores[0]}; {model.metrics_names[1]} of {scores[1]*100}%')\n",
        "      acc_per_fold.append(scores[1] * 100)\n",
        "      loss_per_fold.append(scores[0])\n",
        "      #fold_no += 1\n",
        "      return model"
      ],
      "execution_count": null,
      "outputs": []
    },
    {
      "cell_type": "code",
      "metadata": {
        "id": "zqJYYJIAfHkV",
        "colab": {
          "base_uri": "https://localhost:8080/"
        },
        "outputId": "41e8d6ff-625a-41c4-c77f-60447bfca8dc"
      },
      "source": [
        "model = ResNet50(input_shape = (25, 25, 11, 1), classes = 13)"
      ],
      "execution_count": null,
      "outputs": [
        {
          "output_type": "stream",
          "text": [
            "------------------------------------------------------------------------\n",
            "Training for fold 1 ...\n",
            "Epoch 1/100\n",
            "11/11 [==============================] - 44s 4s/step - loss: 2.1008 - accuracy: 0.2844\n",
            "Epoch 2/100\n",
            "11/11 [==============================] - 41s 4s/step - loss: 0.9480 - accuracy: 0.6793\n",
            "Epoch 3/100\n",
            "11/11 [==============================] - 41s 4s/step - loss: 0.6637 - accuracy: 0.7834\n",
            "Epoch 4/100\n",
            "11/11 [==============================] - 40s 4s/step - loss: 0.3857 - accuracy: 0.8703\n",
            "Epoch 5/100\n",
            "11/11 [==============================] - 41s 4s/step - loss: 0.4260 - accuracy: 0.8407\n",
            "Epoch 6/100\n",
            "11/11 [==============================] - 41s 4s/step - loss: 0.2104 - accuracy: 0.9363\n",
            "Epoch 7/100\n",
            "11/11 [==============================] - 41s 4s/step - loss: 0.1674 - accuracy: 0.9444\n",
            "Epoch 8/100\n",
            "11/11 [==============================] - 41s 4s/step - loss: 0.1141 - accuracy: 0.9595\n",
            "Epoch 9/100\n",
            "11/11 [==============================] - 41s 4s/step - loss: 0.0605 - accuracy: 0.9839\n",
            "Epoch 10/100\n",
            "11/11 [==============================] - 41s 4s/step - loss: 0.0304 - accuracy: 0.9971\n",
            "Epoch 11/100\n",
            "11/11 [==============================] - 41s 4s/step - loss: 0.0258 - accuracy: 0.9961\n",
            "Epoch 12/100\n",
            "11/11 [==============================] - 41s 4s/step - loss: 0.0139 - accuracy: 0.9970\n",
            "Epoch 13/100\n",
            "11/11 [==============================] - 41s 4s/step - loss: 0.0060 - accuracy: 1.0000\n",
            "Epoch 14/100\n",
            "11/11 [==============================] - 41s 4s/step - loss: 0.0042 - accuracy: 1.0000\n",
            "Epoch 15/100\n",
            "11/11 [==============================] - 41s 4s/step - loss: 0.0036 - accuracy: 1.0000\n",
            "Epoch 16/100\n",
            "11/11 [==============================] - 41s 4s/step - loss: 0.0017 - accuracy: 1.0000\n",
            "Epoch 17/100\n",
            "11/11 [==============================] - 40s 4s/step - loss: 0.0013 - accuracy: 1.0000\n",
            "Epoch 18/100\n",
            "11/11 [==============================] - 41s 4s/step - loss: 0.0013 - accuracy: 1.0000\n",
            "Epoch 19/100\n",
            "11/11 [==============================] - 41s 4s/step - loss: 0.0010 - accuracy: 1.0000\n",
            "Epoch 20/100\n",
            "11/11 [==============================] - 41s 4s/step - loss: 8.9604e-04 - accuracy: 1.0000\n",
            "Epoch 21/100\n",
            "11/11 [==============================] - 41s 4s/step - loss: 8.4793e-04 - accuracy: 1.0000\n",
            "Epoch 22/100\n",
            "11/11 [==============================] - 41s 4s/step - loss: 8.4452e-04 - accuracy: 1.0000\n",
            "Epoch 23/100\n",
            "11/11 [==============================] - 41s 4s/step - loss: 7.9607e-04 - accuracy: 1.0000\n",
            "Epoch 24/100\n",
            "11/11 [==============================] - 41s 4s/step - loss: 7.6528e-04 - accuracy: 1.0000\n",
            "Epoch 25/100\n",
            "11/11 [==============================] - 41s 4s/step - loss: 6.2471e-04 - accuracy: 1.0000\n",
            "Epoch 26/100\n",
            "11/11 [==============================] - 41s 4s/step - loss: 5.8324e-04 - accuracy: 1.0000\n",
            "Epoch 27/100\n",
            "11/11 [==============================] - 41s 4s/step - loss: 6.2185e-04 - accuracy: 1.0000\n",
            "Epoch 28/100\n",
            "11/11 [==============================] - 41s 4s/step - loss: 6.4122e-04 - accuracy: 1.0000\n",
            "Epoch 29/100\n",
            "11/11 [==============================] - 41s 4s/step - loss: 5.2117e-04 - accuracy: 1.0000\n",
            "Epoch 30/100\n",
            "11/11 [==============================] - 41s 4s/step - loss: 4.6977e-04 - accuracy: 1.0000\n",
            "Epoch 31/100\n",
            "11/11 [==============================] - 41s 4s/step - loss: 4.6005e-04 - accuracy: 1.0000\n",
            "Epoch 32/100\n",
            "11/11 [==============================] - 41s 4s/step - loss: 4.4851e-04 - accuracy: 1.0000\n",
            "Epoch 33/100\n",
            "11/11 [==============================] - 41s 4s/step - loss: 3.7534e-04 - accuracy: 1.0000\n",
            "Epoch 34/100\n",
            "11/11 [==============================] - 41s 4s/step - loss: 4.0865e-04 - accuracy: 1.0000\n",
            "Epoch 35/100\n",
            "11/11 [==============================] - 41s 4s/step - loss: 3.8552e-04 - accuracy: 1.0000\n",
            "Epoch 36/100\n",
            "11/11 [==============================] - 41s 4s/step - loss: 3.5773e-04 - accuracy: 1.0000\n",
            "Epoch 37/100\n",
            "11/11 [==============================] - 41s 4s/step - loss: 3.3153e-04 - accuracy: 1.0000\n",
            "Epoch 38/100\n",
            "11/11 [==============================] - 41s 4s/step - loss: 3.2787e-04 - accuracy: 1.0000\n",
            "Epoch 39/100\n",
            "11/11 [==============================] - 41s 4s/step - loss: 3.8897e-04 - accuracy: 1.0000\n",
            "Epoch 40/100\n",
            "11/11 [==============================] - 41s 4s/step - loss: 4.1588e-04 - accuracy: 1.0000\n",
            "Epoch 41/100\n",
            "11/11 [==============================] - 41s 4s/step - loss: 3.7474e-04 - accuracy: 1.0000\n",
            "Epoch 42/100\n",
            "11/11 [==============================] - 41s 4s/step - loss: 2.6558e-04 - accuracy: 1.0000\n",
            "Epoch 43/100\n",
            "11/11 [==============================] - 41s 4s/step - loss: 2.7142e-04 - accuracy: 1.0000\n",
            "Epoch 44/100\n",
            "11/11 [==============================] - 41s 4s/step - loss: 2.5597e-04 - accuracy: 1.0000\n",
            "Epoch 45/100\n",
            "11/11 [==============================] - 41s 4s/step - loss: 2.4192e-04 - accuracy: 1.0000\n",
            "Epoch 46/100\n",
            "11/11 [==============================] - 41s 4s/step - loss: 2.3641e-04 - accuracy: 1.0000\n",
            "Epoch 47/100\n",
            "11/11 [==============================] - 41s 4s/step - loss: 2.0848e-04 - accuracy: 1.0000\n",
            "Epoch 48/100\n",
            "11/11 [==============================] - 41s 4s/step - loss: 2.1478e-04 - accuracy: 1.0000\n",
            "Epoch 49/100\n",
            "11/11 [==============================] - 41s 4s/step - loss: 2.0379e-04 - accuracy: 1.0000\n",
            "Epoch 50/100\n",
            "11/11 [==============================] - 41s 4s/step - loss: 2.2455e-04 - accuracy: 1.0000\n",
            "Epoch 51/100\n",
            "11/11 [==============================] - 41s 4s/step - loss: 1.8436e-04 - accuracy: 1.0000\n",
            "Epoch 52/100\n",
            "11/11 [==============================] - 41s 4s/step - loss: 1.7841e-04 - accuracy: 1.0000\n",
            "Epoch 53/100\n",
            "11/11 [==============================] - 41s 4s/step - loss: 1.8587e-04 - accuracy: 1.0000\n",
            "Epoch 54/100\n",
            "11/11 [==============================] - 41s 4s/step - loss: 1.6968e-04 - accuracy: 1.0000\n",
            "Epoch 55/100\n",
            "11/11 [==============================] - 41s 4s/step - loss: 1.6767e-04 - accuracy: 1.0000\n",
            "Epoch 56/100\n",
            "11/11 [==============================] - 41s 4s/step - loss: 1.7108e-04 - accuracy: 1.0000\n",
            "Epoch 57/100\n",
            "11/11 [==============================] - 41s 4s/step - loss: 1.5904e-04 - accuracy: 1.0000\n",
            "Epoch 58/100\n",
            "11/11 [==============================] - 41s 4s/step - loss: 1.6157e-04 - accuracy: 1.0000\n",
            "Epoch 59/100\n",
            "11/11 [==============================] - 41s 4s/step - loss: 1.5319e-04 - accuracy: 1.0000\n",
            "Epoch 60/100\n",
            "11/11 [==============================] - 41s 4s/step - loss: 1.5438e-04 - accuracy: 1.0000\n",
            "Epoch 61/100\n",
            "11/11 [==============================] - 41s 4s/step - loss: 1.3868e-04 - accuracy: 1.0000\n",
            "Epoch 62/100\n",
            "11/11 [==============================] - 41s 4s/step - loss: 1.3460e-04 - accuracy: 1.0000\n",
            "Epoch 63/100\n",
            "11/11 [==============================] - 41s 4s/step - loss: 1.3516e-04 - accuracy: 1.0000\n",
            "Epoch 64/100\n",
            "11/11 [==============================] - 41s 4s/step - loss: 1.2929e-04 - accuracy: 1.0000\n",
            "Epoch 65/100\n",
            "11/11 [==============================] - 41s 4s/step - loss: 1.3124e-04 - accuracy: 1.0000\n",
            "Epoch 66/100\n",
            "11/11 [==============================] - 41s 4s/step - loss: 1.3301e-04 - accuracy: 1.0000\n",
            "Epoch 67/100\n",
            "11/11 [==============================] - 41s 4s/step - loss: 1.2615e-04 - accuracy: 1.0000\n",
            "Epoch 68/100\n",
            "11/11 [==============================] - 41s 4s/step - loss: 1.0790e-04 - accuracy: 1.0000\n",
            "Epoch 69/100\n",
            "11/11 [==============================] - 41s 4s/step - loss: 1.1340e-04 - accuracy: 1.0000\n",
            "Epoch 70/100\n",
            "11/11 [==============================] - 41s 4s/step - loss: 1.2451e-04 - accuracy: 1.0000\n",
            "Epoch 71/100\n",
            "11/11 [==============================] - 41s 4s/step - loss: 1.0778e-04 - accuracy: 1.0000\n",
            "Epoch 72/100\n",
            "11/11 [==============================] - 41s 4s/step - loss: 1.0818e-04 - accuracy: 1.0000\n",
            "Epoch 73/100\n",
            "11/11 [==============================] - 41s 4s/step - loss: 1.0909e-04 - accuracy: 1.0000\n",
            "Epoch 74/100\n",
            "11/11 [==============================] - 41s 4s/step - loss: 9.9867e-05 - accuracy: 1.0000\n",
            "Epoch 75/100\n",
            "11/11 [==============================] - 41s 4s/step - loss: 9.4234e-05 - accuracy: 1.0000\n",
            "Epoch 76/100\n",
            "11/11 [==============================] - 41s 4s/step - loss: 9.6262e-05 - accuracy: 1.0000\n",
            "Epoch 77/100\n",
            "11/11 [==============================] - 41s 4s/step - loss: 9.9330e-05 - accuracy: 1.0000\n",
            "Epoch 78/100\n",
            "11/11 [==============================] - 41s 4s/step - loss: 9.4444e-05 - accuracy: 1.0000\n",
            "Epoch 79/100\n",
            "11/11 [==============================] - 41s 4s/step - loss: 8.8557e-05 - accuracy: 1.0000\n",
            "Epoch 80/100\n",
            "11/11 [==============================] - 41s 4s/step - loss: 9.4764e-05 - accuracy: 1.0000\n",
            "Epoch 81/100\n",
            "11/11 [==============================] - 41s 4s/step - loss: 8.8725e-05 - accuracy: 1.0000\n",
            "Epoch 82/100\n",
            "11/11 [==============================] - 41s 4s/step - loss: 8.6291e-05 - accuracy: 1.0000\n",
            "Epoch 83/100\n",
            "11/11 [==============================] - 41s 4s/step - loss: 8.5418e-05 - accuracy: 1.0000\n",
            "Epoch 84/100\n",
            "11/11 [==============================] - 41s 4s/step - loss: 8.1130e-05 - accuracy: 1.0000\n",
            "Epoch 85/100\n",
            "11/11 [==============================] - 41s 4s/step - loss: 9.1295e-05 - accuracy: 1.0000\n",
            "Epoch 86/100\n",
            "11/11 [==============================] - 41s 4s/step - loss: 7.6964e-05 - accuracy: 1.0000\n",
            "Epoch 87/100\n",
            "11/11 [==============================] - 41s 4s/step - loss: 8.2248e-05 - accuracy: 1.0000\n",
            "Epoch 88/100\n",
            "11/11 [==============================] - 41s 4s/step - loss: 7.3707e-05 - accuracy: 1.0000\n",
            "Epoch 89/100\n",
            "11/11 [==============================] - 41s 4s/step - loss: 7.5359e-05 - accuracy: 1.0000\n",
            "Epoch 90/100\n",
            "11/11 [==============================] - 41s 4s/step - loss: 7.0209e-05 - accuracy: 1.0000\n",
            "Epoch 91/100\n",
            "11/11 [==============================] - 41s 4s/step - loss: 6.7892e-05 - accuracy: 1.0000\n",
            "Epoch 92/100\n",
            "11/11 [==============================] - 41s 4s/step - loss: 7.0325e-05 - accuracy: 1.0000\n",
            "Epoch 93/100\n",
            "11/11 [==============================] - 41s 4s/step - loss: 6.8730e-05 - accuracy: 1.0000\n",
            "Epoch 94/100\n",
            "11/11 [==============================] - 41s 4s/step - loss: 6.5031e-05 - accuracy: 1.0000\n",
            "Epoch 95/100\n",
            "11/11 [==============================] - 41s 4s/step - loss: 6.5759e-05 - accuracy: 1.0000\n",
            "Epoch 96/100\n",
            "11/11 [==============================] - 41s 4s/step - loss: 6.7188e-05 - accuracy: 1.0000\n",
            "Epoch 97/100\n",
            "11/11 [==============================] - 41s 4s/step - loss: 6.2973e-05 - accuracy: 1.0000\n",
            "Epoch 98/100\n",
            "11/11 [==============================] - 41s 4s/step - loss: 6.2643e-05 - accuracy: 1.0000\n",
            "Epoch 99/100\n",
            "11/11 [==============================] - 41s 4s/step - loss: 6.4523e-05 - accuracy: 1.0000\n",
            "Epoch 100/100\n",
            "11/11 [==============================] - 41s 4s/step - loss: 6.0222e-05 - accuracy: 1.0000\n",
            "Score for fold 1: loss of 5.571017027250491e-05; accuracy of 100.0%\n"
          ],
          "name": "stdout"
        }
      ]
    },
    {
      "cell_type": "code",
      "metadata": {
        "colab": {
          "base_uri": "https://localhost:8080/"
        },
        "id": "o6UgIcvdkuSB",
        "outputId": "82442619-4ebd-47ec-ae06-4c35c0d4e4a6"
      },
      "source": [
        "model.summary()"
      ],
      "execution_count": null,
      "outputs": [
        {
          "output_type": "stream",
          "text": [
            "Model: \"ResNet50\"\n",
            "__________________________________________________________________________________________________\n",
            "Layer (type)                    Output Shape         Param #     Connected to                     \n",
            "==================================================================================================\n",
            "input_1 (InputLayer)            [(None, 25, 25, 11,  0                                            \n",
            "__________________________________________________________________________________________________\n",
            "zero_padding3d (ZeroPadding3D)  (None, 31, 31, 17, 1 0           input_1[0][0]                    \n",
            "__________________________________________________________________________________________________\n",
            "conv1 (Conv3D)                  (None, 25, 25, 11, 6 22016       zero_padding3d[0][0]             \n",
            "__________________________________________________________________________________________________\n",
            "bn_conv1 (BatchNormalization)   (None, 25, 25, 11, 6 44          conv1[0][0]                      \n",
            "__________________________________________________________________________________________________\n",
            "activation (Activation)         (None, 25, 25, 11, 6 0           bn_conv1[0][0]                   \n",
            "__________________________________________________________________________________________________\n",
            "conv3d (Conv3D)                 (None, 25, 25, 11, 3 2080        activation[0][0]                 \n",
            "__________________________________________________________________________________________________\n",
            "batch_normalization (BatchNorma (None, 25, 25, 11, 3 44          conv3d[0][0]                     \n",
            "__________________________________________________________________________________________________\n",
            "activation_1 (Activation)       (None, 25, 25, 11, 3 0           batch_normalization[0][0]        \n",
            "__________________________________________________________________________________________________\n",
            "conv3d_1 (Conv3D)               (None, 25, 25, 11, 3 1056        activation_1[0][0]               \n",
            "__________________________________________________________________________________________________\n",
            "batch_normalization_1 (BatchNor (None, 25, 25, 11, 3 44          conv3d_1[0][0]                   \n",
            "__________________________________________________________________________________________________\n",
            "activation_2 (Activation)       (None, 25, 25, 11, 3 0           batch_normalization_1[0][0]      \n",
            "__________________________________________________________________________________________________\n",
            "conv3d_2 (Conv3D)               (None, 25, 25, 11, 3 1056        activation_2[0][0]               \n",
            "__________________________________________________________________________________________________\n",
            "batch_normalization_2 (BatchNor (None, 25, 25, 11, 3 44          conv3d_2[0][0]                   \n",
            "__________________________________________________________________________________________________\n",
            "activation_3 (Activation)       (None, 25, 25, 11, 3 0           batch_normalization_2[0][0]      \n",
            "__________________________________________________________________________________________________\n",
            "conv3d_3 (Conv3D)               (None, 25, 25, 11, 3 1056        activation_3[0][0]               \n",
            "__________________________________________________________________________________________________\n",
            "batch_normalization_3 (BatchNor (None, 25, 25, 11, 3 44          conv3d_3[0][0]                   \n",
            "__________________________________________________________________________________________________\n",
            "conv3d_4 (Conv3D)               (None, 25, 25, 11, 3 2080        activation[0][0]                 \n",
            "__________________________________________________________________________________________________\n",
            "activation_4 (Activation)       (None, 25, 25, 11, 3 0           batch_normalization_3[0][0]      \n",
            "__________________________________________________________________________________________________\n",
            "batch_normalization_4 (BatchNor (None, 25, 25, 11, 3 44          conv3d_4[0][0]                   \n",
            "__________________________________________________________________________________________________\n",
            "add (Add)                       (None, 25, 25, 11, 3 0           activation_4[0][0]               \n",
            "                                                                 batch_normalization_4[0][0]      \n",
            "__________________________________________________________________________________________________\n",
            "activation_5 (Activation)       (None, 25, 25, 11, 3 0           add[0][0]                        \n",
            "__________________________________________________________________________________________________\n",
            "average_pooling3d (AveragePooli (None, 13, 13, 6, 32 0           activation_5[0][0]               \n",
            "__________________________________________________________________________________________________\n",
            "reshape (Reshape)               (None, 13, 13, 192)  0           average_pooling3d[0][0]          \n",
            "__________________________________________________________________________________________________\n",
            "conv2d (Conv2D)                 (None, 11, 11, 32)   55328       reshape[0][0]                    \n",
            "__________________________________________________________________________________________________\n",
            "conv2d_1 (Conv2D)               (None, 7, 7, 64)     51264       conv2d[0][0]                     \n",
            "__________________________________________________________________________________________________\n",
            "reshape_1 (Reshape)             (None, 7, 448)       0           conv2d_1[0][0]                   \n",
            "__________________________________________________________________________________________________\n",
            "lstm (LSTM)                     (None, 7, 400)       1358400     reshape_1[0][0]                  \n",
            "__________________________________________________________________________________________________\n",
            "flatten (Flatten)               (None, 2800)         0           lstm[0][0]                       \n",
            "__________________________________________________________________________________________________\n",
            "fc13 (Dense)                    (None, 13)           36413       flatten[0][0]                    \n",
            "==================================================================================================\n",
            "Total params: 1,531,013\n",
            "Trainable params: 1,530,881\n",
            "Non-trainable params: 132\n",
            "__________________________________________________________________________________________________\n"
          ],
          "name": "stdout"
        }
      ]
    },
    {
      "cell_type": "code",
      "metadata": {
        "colab": {
          "base_uri": "https://localhost:8080/"
        },
        "id": "RGwgGXXL_EF6",
        "outputId": "de8fe41d-a84b-4a60-ee5f-4be16ee9ead9"
      },
      "source": [
        "Xtest = Xtest.reshape(-1, windowSize, windowSize, B, 1)\n",
        "Xtest.shape"
      ],
      "execution_count": null,
      "outputs": [
        {
          "output_type": "execute_result",
          "data": {
            "text/plain": [
              "(3648, 25, 25, 11, 1)"
            ]
          },
          "metadata": {
            "tags": []
          },
          "execution_count": 28
        }
      ]
    },
    {
      "cell_type": "code",
      "metadata": {
        "id": "AwWOVxk3_GUv",
        "colab": {
          "base_uri": "https://localhost:8080/"
        },
        "outputId": "e912feda-c760-424a-e3c7-fd0ad277ee85"
      },
      "source": [
        "ytest = np_utils.to_categorical(ytest)\n",
        "ytest.shape"
      ],
      "execution_count": null,
      "outputs": [
        {
          "output_type": "execute_result",
          "data": {
            "text/plain": [
              "(3648, 13)"
            ]
          },
          "metadata": {
            "tags": []
          },
          "execution_count": 29
        }
      ]
    },
    {
      "cell_type": "code",
      "metadata": {
        "colab": {
          "base_uri": "https://localhost:8080/"
        },
        "id": "dOmyvFPP_I9Z",
        "outputId": "774b4bcf-9510-4de8-8731-4d8363412f64"
      },
      "source": [
        "overall_loss, overal_accu = model.evaluate(Xtest, ytest, verbose=False)\n",
        "print('Overall loss = {}'.format(overall_loss))\n",
        "print('Overall accuracy = {}\\n'.format(overal_accu))"
      ],
      "execution_count": null,
      "outputs": [
        {
          "output_type": "stream",
          "text": [
            "Overall loss = 0.021621376276016235\n",
            "Overall accuracy = 0.9945175647735596\n",
            "\n"
          ],
          "name": "stdout"
        }
      ]
    },
    {
      "cell_type": "markdown",
      "metadata": {
        "id": "8XtHWrsJFQeY"
      },
      "source": [
        "#The determination Of Classwise accuracy"
      ]
    },
    {
      "cell_type": "code",
      "metadata": {
        "colab": {
          "base_uri": "https://localhost:8080/"
        },
        "id": "jdweKN1E_LUm",
        "outputId": "83c6f18e-c055-4ee9-a4e6-a5e2e171f369"
      },
      "source": [
        "Ypredtest = model.predict(Xtest)\n",
        "newpredtest = np.argmax(Ypredtest, axis=1)\n",
        "\n",
        "classification = classification_report(np.argmax(ytest, axis=1), newpredtest)\n",
        "\n",
        "print(classification)"
      ],
      "execution_count": null,
      "outputs": [
        {
          "output_type": "stream",
          "text": [
            "              precision    recall  f1-score   support\n",
            "\n",
            "           0       1.00      1.00      1.00       533\n",
            "           1       1.00      1.00      1.00       170\n",
            "           2       1.00      0.99      0.99       179\n",
            "           3       0.99      0.94      0.97       176\n",
            "           4       1.00      1.00      1.00       113\n",
            "           5       0.98      1.00      0.99       160\n",
            "           6       1.00      1.00      1.00        74\n",
            "           7       1.00      0.98      0.99       302\n",
            "           8       0.97      1.00      0.99       364\n",
            "           9       1.00      1.00      1.00       283\n",
            "          10       0.98      0.99      0.99       293\n",
            "          11       1.00      1.00      1.00       352\n",
            "          12       1.00      1.00      1.00       649\n",
            "\n",
            "    accuracy                           0.99      3648\n",
            "   macro avg       0.99      0.99      0.99      3648\n",
            "weighted avg       0.99      0.99      0.99      3648\n",
            "\n"
          ],
          "name": "stdout"
        }
      ]
    },
    {
      "cell_type": "code",
      "metadata": {
        "id": "M_Xj9Z67Ic5m"
      },
      "source": [
        "def AA_andEachClassAccuracy(confusion_matrix):\n",
        "    counter = confusion_matrix.shape[0]\n",
        "    list_diag = np.diag(confusion_matrix)\n",
        "    \n",
        "    list_raw_sum = np.sum(confusion_matrix, axis=1)\n",
        "    each_acc = np.nan_to_num(truediv(list_diag, list_raw_sum))\n",
        "    average_acc = np.mean(each_acc)\n",
        "    return each_acc, average_acc"
      ],
      "execution_count": null,
      "outputs": []
    },
    {
      "cell_type": "markdown",
      "metadata": {
        "id": "nOguwLkoIn8M"
      },
      "source": [
        "#Confusion Matrix"
      ]
    },
    {
      "cell_type": "code",
      "metadata": {
        "colab": {
          "base_uri": "https://localhost:8080/",
          "height": 713
        },
        "id": "7r1nIX6V_dM4",
        "outputId": "57f89036-7859-455a-e734-e203140c1d5b"
      },
      "source": [
        "oa = accuracy_score(np.argmax(ytest, axis=1), newpredtest)\n",
        "confusion = confusion_matrix(np.argmax(ytest, axis=1), newpredtest)\n",
        "each_acc, aa = AA_andEachClassAccuracy(confusion)\n",
        "kappa = cohen_kappa_score(np.argmax(ytest, axis=1), newpredtest)\n",
        "score = model.evaluate(Xtest, ytest, batch_size=36)\n",
        "Test_Loss =  score[0]*100\n",
        "Test_accuracy = score[1]*100\n",
        "print(oa)\n",
        "print(kappa)\n",
        "print(aa)\n",
        "#print (confusion)\n",
        "a=confusion.diagonal()/confusion.sum(axis=0)\n",
        "print(a)\n",
        "\n",
        "plt.figure(figsize=(10,10))\n",
        "sn.heatmap(confusion, annot=True, cmap=plt.cm.Reds,fmt=\"d\")\n",
        "plt.show()"
      ],
      "execution_count": null,
      "outputs": [
        {
          "output_type": "stream",
          "text": [
            "102/102 [==============================] - 8s 68ms/step - loss: 0.0242 - accuracy: 0.9945\n",
            "0.9945175438596491\n",
            "0.9938952559461638\n",
            "0.9920017967677117\n",
            "[1.         1.         1.         1.         1.         0.98159509\n",
            " 1.         0.99667774 0.98113208 1.         0.97       1.\n",
            " 1.        ]\n"
          ],
          "name": "stdout"
        },
        {
          "output_type": "display_data",
          "data": {
            "image/png": "[encoded data removed]",
            "text/plain": [
              "<Figure size 720x720 with 2 Axes>"
            ]
          },
          "metadata": {
            "tags": [],
            "needs_background": "light"
          }
        }
      ]
    },
    {
      "cell_type": "code",
      "metadata": {
        "id": "0UC9JChHIa5K"
      },
      "source": [
        "def Patch(data,height_index,width_index):\n",
        "    height_slice = slice(height_index, height_index+PATCH_SIZE)\n",
        "    width_slice = slice(width_index, width_index+PATCH_SIZE)\n",
        "    patch = data[height_slice, width_slice, :]\n",
        "    \n",
        "    return patch"
      ],
      "execution_count": null,
      "outputs": []
    },
    {
      "cell_type": "code",
      "metadata": {
        "id": "i_PlmNxJKA1z"
      },
      "source": [
        "dataset = 'KSC'"
      ],
      "execution_count": null,
      "outputs": []
    },
    {
      "cell_type": "code",
      "metadata": {
        "id": "50ax1M81KlTh"
      },
      "source": [
        "def loadData(name):\n",
        "    data_path = os.path.join(os.getcwd(),'/content/drive/MyDrive')\n",
        "    if name == 'KSC':\n",
        "        data = sio.loadmat(os.path.join(data_path, 'KSC.mat'))['KSC']\n",
        "        labels = sio.loadmat(os.path.join(data_path, 'KSC_gt.mat'))['KSC_gt']\n",
        "    \n",
        "    \n",
        "    return data, labels"
      ],
      "execution_count": null,
      "outputs": []
    },
    {
      "cell_type": "code",
      "metadata": {
        "id": "fjUxeIOWLddo"
      },
      "source": [
        "# load the original image\n",
        "X, y = loadData(dataset)"
      ],
      "execution_count": null,
      "outputs": []
    },
    {
      "cell_type": "code",
      "metadata": {
        "id": "Z1tJ9toFLi2f"
      },
      "source": [
        "\n",
        "height = y.shape[0]\n",
        "width = y.shape[1]\n",
        "PATCH_SIZE = windowSize\n",
        "numComponents = B"
      ],
      "execution_count": null,
      "outputs": []
    },
    {
      "cell_type": "code",
      "metadata": {
        "id": "KPKQ-eNYL73f"
      },
      "source": [
        "X,pca = applyPCA(X, numComponents=numComponents)"
      ],
      "execution_count": null,
      "outputs": []
    },
    {
      "cell_type": "code",
      "metadata": {
        "id": "w1E4H4BLKfql",
        "colab": {
          "base_uri": "https://localhost:8080/"
        },
        "outputId": "e38b4825-be44-418a-aaa5-13b3a799f14a"
      },
      "source": [
        "from google.colab import drive\n",
        "drive.mount('/content/drive')"
      ],
      "execution_count": null,
      "outputs": [
        {
          "output_type": "stream",
          "text": [
            "Mounted at /content/drive\n"
          ],
          "name": "stdout"
        }
      ]
    },
    {
      "cell_type": "code",
      "metadata": {
        "id": "8KH0mnYbMMGd"
      },
      "source": [
        "X = padWithZeros(X, PATCH_SIZE//2)"
      ],
      "execution_count": null,
      "outputs": []
    },
    {
      "cell_type": "code",
      "metadata": {
        "id": "w6JZvuwzMQy7"
      },
      "source": [
        "# calculate the predicted image\n",
        "outputs = np.zeros((height,width))\n",
        "for i in range(height):\n",
        "    for j in range(width):\n",
        "        target = int(y[i,j])\n",
        "        if target == 0 :\n",
        "            continue\n",
        "        else :\n",
        "            image_patch=Patch(X,i,j)\n",
        "            X_test_image = image_patch.reshape(1,image_patch.shape[0],image_patch.shape[1], image_patch.shape[2], 1).astype('float32')                                   \n",
        "            prediction = (model.predict(X_test_image))\n",
        "            prediction = np.argmax(prediction, axis=1)\n",
        "            outputs[i][j] = prediction+1"
      ],
      "execution_count": null,
      "outputs": []
    },
    {
      "cell_type": "code",
      "metadata": {
        "colab": {
          "base_uri": "https://localhost:8080/",
          "height": 377
        },
        "id": "ld3ghdX1MTnx",
        "outputId": "bc700ab0-2bb6-4591-806e-b8d51f804fc5"
      },
      "source": [
        "ground_truth = spectral.imshow(classes = y,figsize =(7,7))"
      ],
      "execution_count": null,
      "outputs": [
        {
          "output_type": "display_data",
          "data": {
            "image/png": "[encoded data removed]",
            "text/plain": [
              "<Figure size 504x504 with 1 Axes>"
            ]
          },
          "metadata": {
            "tags": [],
            "needs_background": "light"
          }
        }
      ]
    },
    {
      "cell_type": "code",
      "metadata": {
        "colab": {
          "base_uri": "https://localhost:8080/",
          "height": 377
        },
        "id": "gFhDUatoMWAI",
        "outputId": "d75e487d-3591-4877-a4fe-f07d98d2d713"
      },
      "source": [
        "predict_image = spectral.imshow(classes = outputs.astype(int),figsize =(7,7))"
      ],
      "execution_count": null,
      "outputs": [
        {
          "output_type": "display_data",
          "data": {
            "image/png": "[encoded data removed]",
            "text/plain": [
              "<Figure size 504x504 with 1 Axes>"
            ]
          },
          "metadata": {
            "tags": [],
            "needs_background": "light"
          }
        }
      ]
    },
    {
      "cell_type": "code",
      "metadata": {
        "id": "_IXHVQmLQkZT"
      },
      "source": [
        ""
      ],
      "execution_count": null,
      "outputs": []
    }
  ]
}
